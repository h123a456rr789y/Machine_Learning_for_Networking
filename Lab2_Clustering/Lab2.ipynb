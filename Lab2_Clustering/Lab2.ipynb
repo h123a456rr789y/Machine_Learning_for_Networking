{
 "cells": [
  {
   "cell_type": "code",
   "execution_count": 12,
   "metadata": {},
   "outputs": [],
   "source": [
    "import pandas as pd\n",
    "import numpy as np\n",
    "import matplotlib\n",
    "import matplotlib.pyplot as plt"
   ]
  },
  {
   "cell_type": "code",
   "execution_count": 13,
   "metadata": {},
   "outputs": [],
   "source": [
    "tags = [ i for i in pd.read_csv('./dataset/header.csv')]"
   ]
  },
  {
   "cell_type": "code",
   "execution_count": 14,
   "metadata": {},
   "outputs": [
    {
     "data": {
      "text/plain": [
       "['ID',\n",
       " 'Flow.ID',\n",
       " 'Source.IP',\n",
       " 'Source.Port',\n",
       " 'Destination.IP',\n",
       " 'Destination.Port',\n",
       " 'Protocol',\n",
       " 'Timestamp',\n",
       " 'Flow.Duration',\n",
       " 'Total.Fwd.Packets',\n",
       " 'Total.Backward.Packets',\n",
       " 'Total.Length.of.Fwd.Packets',\n",
       " 'Total.Length.of.Bwd.Packets',\n",
       " 'Fwd.Packet.Length.Max',\n",
       " 'Fwd.Packet.Length.Min',\n",
       " 'Fwd.Packet.Length.Mean',\n",
       " 'Fwd.Packet.Length.Std',\n",
       " 'Bwd.Packet.Length.Max',\n",
       " 'Bwd.Packet.Length.Min',\n",
       " 'Bwd.Packet.Length.Mean',\n",
       " 'Bwd.Packet.Length.Std',\n",
       " 'Flow.Bytes.s',\n",
       " 'Flow.Packets.s',\n",
       " 'Flow.IAT.Mean',\n",
       " 'Flow.IAT.Std',\n",
       " 'Flow.IAT.Max',\n",
       " 'Flow.IAT.Min',\n",
       " 'Fwd.IAT.Total',\n",
       " 'Fwd.IAT.Mean',\n",
       " 'Fwd.IAT.Std',\n",
       " 'Fwd.IAT.Max',\n",
       " 'Fwd.IAT.Min',\n",
       " 'Bwd.IAT.Total',\n",
       " 'Bwd.IAT.Mean',\n",
       " 'Bwd.IAT.Std',\n",
       " 'Bwd.IAT.Max',\n",
       " 'Bwd.IAT.Min',\n",
       " 'Fwd.PSH.Flags',\n",
       " 'Bwd.PSH.Flags',\n",
       " 'Fwd.URG.Flags',\n",
       " 'Bwd.URG.Flags',\n",
       " 'Fwd.Header.Length',\n",
       " 'Bwd.Header.Length',\n",
       " 'Fwd.Packets.s',\n",
       " 'Bwd.Packets.s',\n",
       " 'Min.Packet.Length',\n",
       " 'Max.Packet.Length',\n",
       " 'Packet.Length.Mean',\n",
       " 'Packet.Length.Std',\n",
       " 'Packet.Length.Variance',\n",
       " 'FIN.Flag.Count',\n",
       " 'SYN.Flag.Count',\n",
       " 'RST.Flag.Count',\n",
       " 'PSH.Flag.Count',\n",
       " 'ACK.Flag.Count',\n",
       " 'URG.Flag.Count',\n",
       " 'CWE.Flag.Count',\n",
       " 'ECE.Flag.Count',\n",
       " 'Down.Up.Ratio',\n",
       " 'Average.Packet.Size',\n",
       " 'Avg.Fwd.Segment.Size',\n",
       " 'Avg.Bwd.Segment.Size',\n",
       " 'Fwd.Header.Length.1',\n",
       " 'Fwd.Avg.Bytes.Bulk',\n",
       " 'Fwd.Avg.Packets.Bulk',\n",
       " 'Fwd.Avg.Bulk.Rate',\n",
       " 'Bwd.Avg.Bytes.Bulk',\n",
       " 'Bwd.Avg.Packets.Bulk',\n",
       " 'Bwd.Avg.Bulk.Rate',\n",
       " 'Subflow.Fwd.Packets',\n",
       " 'Subflow.Fwd.Bytes',\n",
       " 'Subflow.Bwd.Packets',\n",
       " 'Subflow.Bwd.Bytes',\n",
       " 'Init_Win_bytes_forward',\n",
       " 'Init_Win_bytes_backward',\n",
       " 'act_data_pkt_fwd',\n",
       " 'min_seg_size_forward',\n",
       " 'Active.Mean',\n",
       " 'Active.Std',\n",
       " 'Active.Max',\n",
       " 'Active.Min',\n",
       " 'Idle.Mean',\n",
       " 'Idle.Std',\n",
       " 'Idle.Max',\n",
       " 'Idle.Min',\n",
       " 'Label']"
      ]
     },
     "execution_count": 14,
     "metadata": {},
     "output_type": "execute_result"
    }
   ],
   "source": [
    "tags"
   ]
  },
  {
   "cell_type": "code",
   "execution_count": null,
   "metadata": {},
   "outputs": [],
   "source": []
  },
  {
   "cell_type": "code",
   "execution_count": null,
   "metadata": {},
   "outputs": [],
   "source": []
  }
 ],
 "metadata": {
  "kernelspec": {
   "display_name": "Python 3",
   "language": "python",
   "name": "python3"
  },
  "language_info": {
   "codemirror_mode": {
    "name": "ipython",
    "version": 3
   },
   "file_extension": ".py",
   "mimetype": "text/x-python",
   "name": "python",
   "nbconvert_exporter": "python",
   "pygments_lexer": "ipython3",
   "version": "3.6.9"
  }
 },
 "nbformat": 4,
 "nbformat_minor": 2
}
